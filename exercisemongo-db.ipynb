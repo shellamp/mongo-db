{
 "cells": [
  {
   "cell_type": "code",
   "execution_count": 9,
   "metadata": {},
   "outputs": [
    {
     "name": "stdout",
     "output_type": "stream",
     "text": [
      "Requirement already satisfied: pymongo in /Library/Frameworks/Python.framework/Versions/3.12/lib/python3.12/site-packages (4.7.3)\n",
      "Requirement already satisfied: dnspython<3.0.0,>=1.16.0 in /Library/Frameworks/Python.framework/Versions/3.12/lib/python3.12/site-packages (from pymongo) (2.6.1)\n"
     ]
    }
   ],
   "source": [
    "# Install the pymongo Python Package \n",
    "!pip3 install pymongo"
   ]
  },
  {
   "cell_type": "code",
   "execution_count": 10,
   "metadata": {},
   "outputs": [],
   "source": [
    "from pymongo import MongoClient\n",
    "from pprint import pprint\n",
    "import requests \n",
    "import json"
   ]
  },
  {
   "cell_type": "code",
   "execution_count": 11,
   "metadata": {},
   "outputs": [
    {
     "name": "stdout",
     "output_type": "stream",
     "text": [
      "[{'lecturer': {'department': 'Math',\n",
      "               'name': 'Markus Löcher',\n",
      "               'status': 'Professor'},\n",
      "  'semester': 1,\n",
      "  'title': 'Data Science'},\n",
      " {'lecturer': {'department': 'Information Systems',\n",
      "               'name': 'Roland M. Mueller',\n",
      "               'status': 'Professor'},\n",
      "  'semester': 1,\n",
      "  'title': 'Data Warehousing'},\n",
      " {'lecturer': {'department': 'Information Systems',\n",
      "               'name': 'Frank Habermann',\n",
      "               'status': 'Professor'},\n",
      "  'semester': 1,\n",
      "  'title': 'Business Process Management'},\n",
      " {'lecturer': {'department': 'Information Systems',\n",
      "               'name': 'Sven Pohland',\n",
      "               'status': 'Professor'},\n",
      "  'semester': 1,\n",
      "  'title': 'Stratigic Issues of IT'},\n",
      " {'lecturer': {'department': 'Math',\n",
      "               'name': 'Markus Löcher',\n",
      "               'status': 'Professor'},\n",
      "  'semester': 2,\n",
      "  'title': 'Text, Web and Social Media Analytics Lab'},\n",
      " {'lecturer': {'department': 'Information Systems',\n",
      "               'name': 'Roland M. Mueller',\n",
      "               'status': 'Professor'},\n",
      "  'semester': 2,\n",
      "  'title': 'Enterprise Architectures for Big Data'},\n",
      " {'lecturer': {'department': 'Information Systems',\n",
      "               'name': 'Frank Habermann',\n",
      "               'status': 'Professor'},\n",
      "  'semester': 2,\n",
      "  'title': 'Business Process Integration Lab'},\n",
      " {'lecturer': {'department': 'Information Systems',\n",
      "               'name': 'Dennis Uckel',\n",
      "               'status': 'External'},\n",
      "  'semester': 2,\n",
      "  'title': 'IT-Security and Privacy'},\n",
      " {'lecturer': {'department': 'Information Systems',\n",
      "               'name': 'Marcus Birkenkrahe',\n",
      "               'status': 'Professor'},\n",
      "  'semester': 2,\n",
      "  'title': 'Research Methods'}]\n"
     ]
    }
   ],
   "source": [
    "# Client connects to \"localhost\" by default \n",
    "client = MongoClient()\n",
    "\n",
    "db = client['bipm']\n",
    "\n",
    "db.courses.drop()\n",
    "\n",
    "# Create a Python Dictonary\n",
    "courses = [\n",
    "    {'title': 'Data Science',\n",
    "     'lecturer': {\n",
    "         'name': 'Markus Löcher',\n",
    "         'department': 'Math',\n",
    "         'status': 'Professor'\n",
    "     },\n",
    "     'semester': 1},\n",
    "    {'title': 'Data Warehousing',\n",
    "     'lecturer': {\n",
    "         'name': 'Roland M. Mueller',\n",
    "         'department': 'Information Systems',\n",
    "         'status': 'Professor'\n",
    "     },\n",
    "     'semester': 1},\n",
    "    {'title': 'Business Process Management',\n",
    "     'lecturer': {\n",
    "         'name': 'Frank Habermann',\n",
    "         'department': 'Information Systems',\n",
    "         'status': 'Professor'\n",
    "     },\n",
    "     'semester': 1},\n",
    "    {'title': 'Stratigic Issues of IT',\n",
    "     'lecturer': {\n",
    "         'name': 'Sven Pohland',\n",
    "         'department': 'Information Systems',\n",
    "         'status': 'Professor'\n",
    "     },\n",
    "     'semester': 1},\n",
    "    {'title': 'Text, Web and Social Media Analytics Lab',\n",
    "     'lecturer': {\n",
    "         'name': 'Markus Löcher',\n",
    "         'department': 'Math',\n",
    "         'status': 'Professor'\n",
    "     },\n",
    "     'semester': 2},\n",
    "    {'title': 'Enterprise Architectures for Big Data',\n",
    "     'lecturer': {\n",
    "         'name': 'Roland M. Mueller',\n",
    "         'department': 'Information Systems',\n",
    "         'status': 'Professor'\n",
    "     },\n",
    "     'semester': 2},\n",
    "    {'title': 'Business Process Integration Lab',\n",
    "     'lecturer': {\n",
    "         'name': 'Frank Habermann',\n",
    "         'department': 'Information Systems',\n",
    "         'status': 'Professor'\n",
    "     },\n",
    "     'semester': 2},\n",
    "    {'title': 'IT-Security and Privacy',\n",
    "     'lecturer': {\n",
    "         'name': 'Dennis Uckel',\n",
    "         'department': 'Information Systems',\n",
    "         'status': 'External'\n",
    "     },\n",
    "     'semester': 2},\n",
    "    {'title': 'Research Methods',\n",
    "     'lecturer': {\n",
    "         'name': 'Marcus Birkenkrahe',\n",
    "         'department': 'Information Systems',\n",
    "         'status': 'Professor'\n",
    "     },\n",
    "     'semester': 2},\n",
    "]\n",
    "\n",
    "pprint(courses)\n"
   ]
  },
  {
   "cell_type": "code",
   "execution_count": 12,
   "metadata": {},
   "outputs": [
    {
     "data": {
      "text/plain": [
       "InsertManyResult([ObjectId('666547296c79e0dcf5b8b5c8'), ObjectId('666547296c79e0dcf5b8b5c9'), ObjectId('666547296c79e0dcf5b8b5ca'), ObjectId('666547296c79e0dcf5b8b5cb'), ObjectId('666547296c79e0dcf5b8b5cc'), ObjectId('666547296c79e0dcf5b8b5cd'), ObjectId('666547296c79e0dcf5b8b5ce'), ObjectId('666547296c79e0dcf5b8b5cf'), ObjectId('666547296c79e0dcf5b8b5d0')], acknowledged=True)"
      ]
     },
     "execution_count": 12,
     "metadata": {},
     "output_type": "execute_result"
    }
   ],
   "source": [
    "db.courses.insert_many(courses)\n"
   ]
  },
  {
   "cell_type": "code",
   "execution_count": 13,
   "metadata": {},
   "outputs": [
    {
     "name": "stdout",
     "output_type": "stream",
     "text": [
      "{'_id': ObjectId('666547296c79e0dcf5b8b5c8'),\n",
      " 'lecturer': {'department': 'Math',\n",
      "              'name': 'Markus Löcher',\n",
      "              'status': 'Professor'},\n",
      " 'semester': 1,\n",
      " 'title': 'Data Science'}\n",
      "{'_id': ObjectId('666547296c79e0dcf5b8b5c9'),\n",
      " 'lecturer': {'department': 'Information Systems',\n",
      "              'name': 'Roland M. Mueller',\n",
      "              'status': 'Professor'},\n",
      " 'semester': 1,\n",
      " 'title': 'Data Warehousing'}\n",
      "{'_id': ObjectId('666547296c79e0dcf5b8b5ca'),\n",
      " 'lecturer': {'department': 'Information Systems',\n",
      "              'name': 'Frank Habermann',\n",
      "              'status': 'Professor'},\n",
      " 'semester': 1,\n",
      " 'title': 'Business Process Management'}\n",
      "{'_id': ObjectId('666547296c79e0dcf5b8b5cb'),\n",
      " 'lecturer': {'department': 'Information Systems',\n",
      "              'name': 'Sven Pohland',\n",
      "              'status': 'Professor'},\n",
      " 'semester': 1,\n",
      " 'title': 'Stratigic Issues of IT'}\n",
      "{'_id': ObjectId('666547296c79e0dcf5b8b5cc'),\n",
      " 'lecturer': {'department': 'Math',\n",
      "              'name': 'Markus Löcher',\n",
      "              'status': 'Professor'},\n",
      " 'semester': 2,\n",
      " 'title': 'Text, Web and Social Media Analytics Lab'}\n",
      "{'_id': ObjectId('666547296c79e0dcf5b8b5cd'),\n",
      " 'lecturer': {'department': 'Information Systems',\n",
      "              'name': 'Roland M. Mueller',\n",
      "              'status': 'Professor'},\n",
      " 'semester': 2,\n",
      " 'title': 'Enterprise Architectures for Big Data'}\n",
      "{'_id': ObjectId('666547296c79e0dcf5b8b5ce'),\n",
      " 'lecturer': {'department': 'Information Systems',\n",
      "              'name': 'Frank Habermann',\n",
      "              'status': 'Professor'},\n",
      " 'semester': 2,\n",
      " 'title': 'Business Process Integration Lab'}\n",
      "{'_id': ObjectId('666547296c79e0dcf5b8b5cf'),\n",
      " 'lecturer': {'department': 'Information Systems',\n",
      "              'name': 'Dennis Uckel',\n",
      "              'status': 'External'},\n",
      " 'semester': 2,\n",
      " 'title': 'IT-Security and Privacy'}\n",
      "{'_id': ObjectId('666547296c79e0dcf5b8b5d0'),\n",
      " 'lecturer': {'department': 'Information Systems',\n",
      "              'name': 'Marcus Birkenkrahe',\n",
      "              'status': 'Professor'},\n",
      " 'semester': 2,\n",
      " 'title': 'Research Methods'}\n"
     ]
    }
   ],
   "source": [
    "cursor = db.courses.find()\n",
    "\n",
    "for document in cursor:\n",
    "    pprint(document)"
   ]
  },
  {
   "cell_type": "code",
   "execution_count": 14,
   "metadata": {},
   "outputs": [
    {
     "data": {
      "text/plain": [
       "{'title': 'Master Thesis', 'semester': 3}"
      ]
     },
     "execution_count": 14,
     "metadata": {},
     "output_type": "execute_result"
    }
   ],
   "source": [
    "my_json = '{\"title\": \"Master Thesis\", \"semester\": 3}'\n",
    "another_course = json.loads(my_json)\n",
    "another_course"
   ]
  },
  {
   "cell_type": "code",
   "execution_count": 15,
   "metadata": {},
   "outputs": [
    {
     "data": {
      "text/plain": [
       "{'title': 'Another course', 'semester': 3}"
      ]
     },
     "execution_count": 15,
     "metadata": {},
     "output_type": "execute_result"
    }
   ],
   "source": [
    "my_json_1 = '{\"title\": \"Another course\", \"semester\": 3}'\n",
    "another_course = json.loads(my_json_1)\n",
    "another_course"
   ]
  },
  {
   "cell_type": "code",
   "execution_count": 16,
   "metadata": {},
   "outputs": [
    {
     "name": "stdout",
     "output_type": "stream",
     "text": [
      "[{'_id': ObjectId('666547296c79e0dcf5b8b5c8'),\n",
      "  'lecturer': {'department': 'Math',\n",
      "               'name': 'Markus Löcher',\n",
      "               'status': 'Professor'},\n",
      "  'semester': 1,\n",
      "  'title': 'Data Science'},\n",
      " {'_id': ObjectId('666547296c79e0dcf5b8b5c9'),\n",
      "  'lecturer': {'department': 'Information Systems',\n",
      "               'name': 'Roland M. Mueller',\n",
      "               'status': 'Professor'},\n",
      "  'semester': 1,\n",
      "  'title': 'Data Warehousing'},\n",
      " {'_id': ObjectId('666547296c79e0dcf5b8b5ca'),\n",
      "  'lecturer': {'department': 'Information Systems',\n",
      "               'name': 'Frank Habermann',\n",
      "               'status': 'Professor'},\n",
      "  'semester': 1,\n",
      "  'title': 'Business Process Management'},\n",
      " {'_id': ObjectId('666547296c79e0dcf5b8b5cb'),\n",
      "  'lecturer': {'department': 'Information Systems',\n",
      "               'name': 'Sven Pohland',\n",
      "               'status': 'Professor'},\n",
      "  'semester': 1,\n",
      "  'title': 'Stratigic Issues of IT'},\n",
      " {'_id': ObjectId('666547296c79e0dcf5b8b5cc'),\n",
      "  'lecturer': {'department': 'Math',\n",
      "               'name': 'Markus Löcher',\n",
      "               'status': 'Professor'},\n",
      "  'semester': 2,\n",
      "  'title': 'Text, Web and Social Media Analytics Lab'},\n",
      " {'_id': ObjectId('666547296c79e0dcf5b8b5cd'),\n",
      "  'lecturer': {'department': 'Information Systems',\n",
      "               'name': 'Roland M. Mueller',\n",
      "               'status': 'Professor'},\n",
      "  'semester': 2,\n",
      "  'title': 'Enterprise Architectures for Big Data'},\n",
      " {'_id': ObjectId('666547296c79e0dcf5b8b5ce'),\n",
      "  'lecturer': {'department': 'Information Systems',\n",
      "               'name': 'Frank Habermann',\n",
      "               'status': 'Professor'},\n",
      "  'semester': 2,\n",
      "  'title': 'Business Process Integration Lab'},\n",
      " {'_id': ObjectId('666547296c79e0dcf5b8b5cf'),\n",
      "  'lecturer': {'department': 'Information Systems',\n",
      "               'name': 'Dennis Uckel',\n",
      "               'status': 'External'},\n",
      "  'semester': 2,\n",
      "  'title': 'IT-Security and Privacy'},\n",
      " {'_id': ObjectId('666547296c79e0dcf5b8b5d0'),\n",
      "  'lecturer': {'department': 'Information Systems',\n",
      "               'name': 'Marcus Birkenkrahe',\n",
      "               'status': 'Professor'},\n",
      "  'semester': 2,\n",
      "  'title': 'Research Methods'}]\n"
     ]
    }
   ],
   "source": [
    "pprint(courses)"
   ]
  },
  {
   "cell_type": "code",
   "execution_count": null,
   "metadata": {},
   "outputs": [],
   "source": []
  }
 ],
 "metadata": {
  "kernelspec": {
   "display_name": "Python 3",
   "language": "python",
   "name": "python3"
  },
  "language_info": {
   "codemirror_mode": {
    "name": "ipython",
    "version": 3
   },
   "file_extension": ".py",
   "mimetype": "text/x-python",
   "name": "python",
   "nbconvert_exporter": "python",
   "pygments_lexer": "ipython3",
   "version": "3.12.3"
  }
 },
 "nbformat": 4,
 "nbformat_minor": 2
}
